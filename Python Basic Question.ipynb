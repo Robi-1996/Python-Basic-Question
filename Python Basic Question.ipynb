{
  "nbformat": 4,
  "nbformat_minor": 0,
  "metadata": {
    "colab": {
      "provenance": []
    },
    "kernelspec": {
      "name": "python3",
      "display_name": "Python 3"
    },
    "language_info": {
      "name": "python"
    }
  },
  "cells": [
    {
      "cell_type": "markdown",
      "source": [
        "# Python Basic Question\n"
      ],
      "metadata": {
        "id": "ecenh6uwNBt9"
      }
    },
    {
      "cell_type": "markdown",
      "source": [
        "1. What is Python, and why is it popular?\n",
        "   \n",
        "   -> Python is a high level, interpreted programming language that it  \n",
        "      widely used for various purposes such as in data science, web development and machine learning etc.\n",
        "      It is popular because it is\n",
        "                 a-widely used in the industry\n",
        "                 b-easy to learn.\n",
        "                 c-large community.\n",
        "                 d-extensive libraries.\n",
        "                 e-fast development.\n",
        "                 f-versatility etc.\n",
        "\n",
        " 2. What is an interpreter in Python?\n",
        "      \n",
        "      -> It is a program that reads and executes code line by line, without compiling it first.\n",
        "\n",
        " 3. What are pre-defined keywords in Python?\n",
        "   \n",
        "  ->  These are the reserved words that have special meanings and have\n",
        "      specific purpose in python.\n",
        "      example:- boon,lea float, and, none, or, if, not, else, elif, for, while, break, continue, return, def, class etc.\n",
        "\n",
        " 4. Can keywords be used as variable names?\n",
        "     \n",
        "     -> No, we cannot used keywords as variable names as it will give syntax error. Reason keywords are reserved words that has special meaning in Python.\n",
        "\n",
        "5. What is mutability in Python?\n",
        "     \n",
        "     -> It is the ability of an object to change its state or value after it is created. Eg. Lists, Sets etc.\n",
        "\n",
        "6. Why are lists mutable, but tuples are immutable?\n",
        "     -> Lists mutable because it can be added or remove value after it is created on the other hand tuples cannot be modified after they are created. This means it cannot add or remove or change elements in a tuple.\n",
        "\n",
        "7. What is the difference between “==” and “is” operators in Python?\n",
        "     \n",
        "     -> Difference between \"==\" and \"is\" are \"==\" checks for equality in value. It returns True if the values of two objects are equal, regardless of whether they are the same objects on the other hand \"is\" checks for identity. It returns True if both variables refer to the same objects in memory.\n",
        "\n",
        "8. What are logical operators in Python?\n",
        "   \n",
        "   ->  It is keywords used to combine or modify conditions in programming.  \n",
        "       It help control the flow od a program by making decisions based on conditions.\n",
        "\n",
        "9. What is type casting in Python?\n",
        "  \n",
        "  -> The process of converting a value from one data type to another.\n",
        "     \n",
        "10. What is the difference between implicit and explicit type casting?\n",
        "     \n",
        "     -> Implicit type casting is done automatically when the value is\n",
        "        assigned to a variable of different data type while explicit type casting is done manually by the programmer using specific syntax or functions to convert a value from one data type to another.\n",
        "\n",
        "11. What is the purpose of conditional statements in Python?\n",
        "  \n",
        "     -> The purpose of conditional statements in Python are used to control  the flow of a program based on conditions or decisions. They allow the program to execute different blocks of code depending on whether a conditions is true or false.\n",
        "\n",
        "12. How does the elif statement work?\n",
        "   \n",
        "   -> Steps how the elif statements work.\n",
        "      if condition1:\n",
        "          #code to execute if condition is true.\n",
        "      Elif condition2:\n",
        "          # code to execute if condition1 is false and condition2 is true.\n",
        "\n",
        "      example:\n",
        "             x=5\n",
        "             if x>10:\n",
        "                print(\"x is greater than 10\")\n",
        "             Elif x==5:\n",
        "                  print(\" x is equal to 5\")\n",
        "\n",
        "13. What is the difference between for and while loops?\n",
        "   \n",
        "   -> FOR LOOPS- It is used to iterate over a sequence (e.g., array, list,\n",
        "      string) or range of values. They have a built-in counter or iterator that automatically increments or decrements.\n",
        "      WHILE LOOPS- It is used to repeat a block of code while a condition is true. They require a manual increment or decrement of a counter or conditon.\n",
        "14. Describe a scenario where a while loop is more suitable than a for\n",
        "     loop?\n",
        "\n",
        "   -> Lets take an example:- If you want to ask the user for a password and\n",
        "      you want to ensure that the password meets certain criteria (e.g., minimum length, contains specific characters). You want to keep asking the user for input untill they enter a valid password.\n",
        "        E.g., While True:\n",
        "                 pasword = input(\" Enter a password:\")\n",
        "                 If len(password)>=8:\n",
        "                    print(\"Password is valid!\")\n",
        "                    break\n",
        "                 else:\n",
        "                    print(\"Password is invalid. Please try again.\")  \n",
        "      It is more suitable than for loop because\n",
        "              - Unknown number of iterations.\n",
        "              - Conditional termination.\n",
        "              - Flexibility.\n",
        "\n",
        "\n",
        "          "
      ],
      "metadata": {
        "id": "z1S4WcsINJdI"
      }
    },
    {
      "cell_type": "markdown",
      "source": [
        "#Practical Questions"
      ],
      "metadata": {
        "id": "6GrhNjiqD4nf"
      }
    },
    {
      "cell_type": "markdown",
      "source": [
        "1. Write a Python program to print \"Hello, World!."
      ],
      "metadata": {
        "id": "Vr98gg5IEDzd"
      }
    },
    {
      "cell_type": "code",
      "execution_count": 1,
      "metadata": {
        "colab": {
          "base_uri": "https://localhost:8080/"
        },
        "id": "fqYhy6MxM7Ke",
        "outputId": "1ea9e7ea-ef05-4bc2-ec2a-b7bfce48cae9"
      },
      "outputs": [
        {
          "output_type": "stream",
          "name": "stdout",
          "text": [
            "Hello, World\n"
          ]
        }
      ],
      "source": [
        "print(\"Hello, World\")"
      ]
    },
    {
      "cell_type": "markdown",
      "source": [
        "2.  Write a Python program that displays your name and age."
      ],
      "metadata": {
        "id": "lJdaCgsWEBrL"
      }
    },
    {
      "cell_type": "code",
      "source": [
        " name = input(\"Enter you name: \")\n",
        " age = int(input(\"Enter your age: \"))\n"
      ],
      "metadata": {
        "colab": {
          "base_uri": "https://localhost:8080/"
        },
        "id": "trsx1VZpEkMb",
        "outputId": "2960efaf-d2a8-4f4f-a8a1-a6c303b3e8e2"
      },
      "execution_count": 7,
      "outputs": [
        {
          "name": "stdout",
          "output_type": "stream",
          "text": [
            "Enter you name: Robi Thangjam\n",
            "Enter your age: 28 \n"
          ]
        }
      ]
    },
    {
      "cell_type": "markdown",
      "source": [
        "3. Write code to print all the pre-defined keywords in Python using the keyword library."
      ],
      "metadata": {
        "id": "X1YAWFgfIb5c"
      }
    },
    {
      "cell_type": "code",
      "source": [
        "help(\"keywords\")"
      ],
      "metadata": {
        "colab": {
          "base_uri": "https://localhost:8080/"
        },
        "id": "u-2TC43dHAO9",
        "outputId": "012fdb06-d4c6-4437-a065-42b296babf2d"
      },
      "execution_count": 9,
      "outputs": [
        {
          "output_type": "stream",
          "name": "stdout",
          "text": [
            "\n",
            "Here is a list of the Python keywords.  Enter any keyword to get more help.\n",
            "\n",
            "False               class               from                or\n",
            "None                continue            global              pass\n",
            "True                def                 if                  raise\n",
            "and                 del                 import              return\n",
            "as                  elif                in                  try\n",
            "assert              else                is                  while\n",
            "async               except              lambda              with\n",
            "await               finally             nonlocal            yield\n",
            "break               for                 not                 \n",
            "\n"
          ]
        }
      ]
    },
    {
      "cell_type": "markdown",
      "source": [
        "4. Write a program that checks if a given word is a Python keyword0\n"
      ],
      "metadata": {
        "id": "gQ_wST4dIxPa"
      }
    },
    {
      "cell_type": "code",
      "source": [
        "a = 5\n",
        "type(a)"
      ],
      "metadata": {
        "colab": {
          "base_uri": "https://localhost:8080/"
        },
        "id": "KkLHfEvFI4Sk",
        "outputId": "bc8e49e0-46f0-47f8-f489-d3fb115883c3"
      },
      "execution_count": 10,
      "outputs": [
        {
          "output_type": "execute_result",
          "data": {
            "text/plain": [
              "int"
            ]
          },
          "metadata": {},
          "execution_count": 10
        }
      ]
    },
    {
      "cell_type": "markdown",
      "source": [
        "5. Create a list and tuple in Python, and demonstrate how attempting to change an element works differently\n",
        "for each"
      ],
      "metadata": {
        "id": "XABwBtBlKNXB"
      }
    },
    {
      "cell_type": "code",
      "source": [
        "#Create a list\n",
        "list_cont = [1, 2, 3, 4, \"Robi\"]\n",
        "list_cont"
      ],
      "metadata": {
        "colab": {
          "base_uri": "https://localhost:8080/"
        },
        "id": "juZw-n56KTT1",
        "outputId": "daa7cbd7-ef6c-4fc3-901e-8fe77e844449"
      },
      "execution_count": 24,
      "outputs": [
        {
          "output_type": "execute_result",
          "data": {
            "text/plain": [
              "[1, 2, 3, 4, 'Robi']"
            ]
          },
          "metadata": {},
          "execution_count": 24
        }
      ]
    },
    {
      "cell_type": "code",
      "source": [
        "#modification\n",
        "list_cont[4]= \"Thangjam\"\n"
      ],
      "metadata": {
        "id": "JhCUi05PRPML"
      },
      "execution_count": 28,
      "outputs": []
    },
    {
      "cell_type": "code",
      "source": [
        "list_cont[4]\n",
        "list_cont"
      ],
      "metadata": {
        "colab": {
          "base_uri": "https://localhost:8080/"
        },
        "id": "HfY0uWM_SiG7",
        "outputId": "0a7080dc-2a45-40ec-a87f-13af42de8fc9"
      },
      "execution_count": 30,
      "outputs": [
        {
          "output_type": "execute_result",
          "data": {
            "text/plain": [
              "[1, 2, 3, 4, 'Thangjam']"
            ]
          },
          "metadata": {},
          "execution_count": 30
        }
      ]
    },
    {
      "cell_type": "code",
      "source": [
        "#create a tuple\n",
        "my_tuple = (1, 2, 3, 4, 5)\n",
        "my_tuple"
      ],
      "metadata": {
        "colab": {
          "base_uri": "https://localhost:8080/"
        },
        "id": "JYlwQXHLSsJa",
        "outputId": "324cdfbf-986e-4982-d240-4218c7d2221c"
      },
      "execution_count": 32,
      "outputs": [
        {
          "output_type": "execute_result",
          "data": {
            "text/plain": [
              "(1, 2, 3, 4, 5)"
            ]
          },
          "metadata": {},
          "execution_count": 32
        }
      ]
    },
    {
      "cell_type": "code",
      "source": [
        "#modification\n",
        "my_tuple(3)=7\n",
        "\n",
        "# while trying to modify the value it gives and error. As tuple cannot be\n",
        "# modified."
      ],
      "metadata": {
        "colab": {
          "base_uri": "https://localhost:8080/",
          "height": 106
        },
        "id": "5JSSATQ7S4Sy",
        "outputId": "a3dc9374-be5e-4af4-aaf5-d9644ba1bc30"
      },
      "execution_count": 36,
      "outputs": [
        {
          "output_type": "error",
          "ename": "SyntaxError",
          "evalue": "cannot assign to function call here. Maybe you meant '==' instead of '='? (<ipython-input-36-b69e66adfbfd>, line 2)",
          "traceback": [
            "\u001b[0;36m  File \u001b[0;32m\"<ipython-input-36-b69e66adfbfd>\"\u001b[0;36m, line \u001b[0;32m2\u001b[0m\n\u001b[0;31m    my_tuple(3)=7\u001b[0m\n\u001b[0m    ^\u001b[0m\n\u001b[0;31mSyntaxError\u001b[0m\u001b[0;31m:\u001b[0m cannot assign to function call here. Maybe you meant '==' instead of '='?\n"
          ]
        }
      ]
    },
    {
      "cell_type": "markdown",
      "source": [
        "6. Write a function to demonstrate the behavior of mutable and immutable arguments."
      ],
      "metadata": {
        "id": "5eq_7CFZUBRI"
      }
    },
    {
      "cell_type": "code",
      "source": [
        "# prompt: Write a function to demonstrate the behavior of mutable and immutable arguments.\n",
        "\n",
        "def demonstrate_mutability(mutable_arg, immutable_arg):\n",
        "    \"\"\"Demonstrates the behavior of mutable and immutable arguments.\n",
        "\n",
        "    Args:\n",
        "        mutable_arg: A mutable argument (e.g., a list).\n",
        "        immutable_arg: An immutable argument (e.g., an integer or a string).\n",
        "    \"\"\"\n",
        "\n",
        "    print(\"Inside the function:\")\n",
        "    print(\"Original mutable argument:\", mutable_arg)\n",
        "    mutable_arg.append(4)\n",
        "      # Modifying the mutable argument inside the function\n",
        "           print(\"Modified mutable argument:\", mutable_arg)\n",
        "\n",
        "           print(\"Original immutable argument:\", immutable_arg)\n",
        "    immutable_arg += 1\n",
        "    # Modifying the immutable argument inside the function. Note: this creates a new object.\n",
        "            print(\"Modified immutable argument:\", immutable_arg)\n",
        "\n",
        "# Example usage\n",
        "my_list = [1, 2, 3]\n",
        "my_int = 5\n",
        "demonstrate_mutability(my_list, my_int)\n",
        "\n",
        "print(\"\\nOutside the function:\")\n",
        "print(\"Mutable argument:\", my_list)  # The original list is modified\n",
        "print(\"Immutable argument:\", my_int) # The original integer remains unchanged.\n"
      ],
      "metadata": {
        "id": "0bCgAPS-U3E3"
      },
      "execution_count": null,
      "outputs": []
    },
    {
      "cell_type": "markdown",
      "source": [
        "7.  Write a program to demonstrate the use of logical operators."
      ],
      "metadata": {
        "id": "eZ6iFrzUVKjr"
      }
    },
    {
      "cell_type": "code",
      "source": [
        "# define variables\n",
        "x=5\n",
        "y=10\n",
        "z=15\n",
        "\n",
        "#logical AND\n",
        "   print(\"logical AND:\")\n",
        "   print(x>0 and y>0) #True\n",
        "   print(x>0 and y<0) #False\n",
        "\n",
        " # logical OR\n",
        "    print(\"logical OR\")\n",
        "    print(x>0 or y>0) #True\n",
        "    print(x<0 or y<0) #False\n"
      ],
      "metadata": {
        "id": "gJpdKFFRVRK5"
      },
      "execution_count": null,
      "outputs": []
    },
    {
      "cell_type": "markdown",
      "source": [
        "8. Write a Python program to convert user input from string to integer,\n",
        "   float, and boolean types."
      ],
      "metadata": {
        "id": "Ewkyr-Q6X4Uk"
      }
    },
    {
      "cell_type": "code",
      "source": [
        " a = \"2\"\n",
        "\n",
        "type(a)\n",
        "\n",
        ""
      ],
      "metadata": {
        "colab": {
          "base_uri": "https://localhost:8080/"
        },
        "id": "Buu2F2FXYFbf",
        "outputId": "b74ae69e-e449-4cfc-b76b-902c2dd8ca17"
      },
      "execution_count": 44,
      "outputs": [
        {
          "output_type": "execute_result",
          "data": {
            "text/plain": [
              "str"
            ]
          },
          "metadata": {},
          "execution_count": 44
        }
      ]
    },
    {
      "cell_type": "code",
      "source": [
        "#conversion str to int.\n",
        "print(type(a))\n"
      ],
      "metadata": {
        "colab": {
          "base_uri": "https://localhost:8080/"
        },
        "id": "PaXfGmrYY1pR",
        "outputId": "ffdc2773-9ab4-4288-f054-b976eea3b7db"
      },
      "execution_count": 45,
      "outputs": [
        {
          "output_type": "stream",
          "name": "stdout",
          "text": [
            "<class 'str'>\n"
          ]
        }
      ]
    },
    {
      "cell_type": "code",
      "source": [
        "print(type(int(a)))"
      ],
      "metadata": {
        "colab": {
          "base_uri": "https://localhost:8080/"
        },
        "id": "sUek2LugiI10",
        "outputId": "8501a193-f4bc-4cc5-de93-6d1c69d9bd22"
      },
      "execution_count": 47,
      "outputs": [
        {
          "output_type": "stream",
          "name": "stdout",
          "text": [
            "<class 'int'>\n"
          ]
        }
      ]
    },
    {
      "cell_type": "code",
      "source": [
        "print(type(float(a)))"
      ],
      "metadata": {
        "colab": {
          "base_uri": "https://localhost:8080/"
        },
        "id": "clBZ-MBoiXFf",
        "outputId": "d5d96995-c296-4df4-ab85-908e4e6e3885"
      },
      "execution_count": 48,
      "outputs": [
        {
          "output_type": "stream",
          "name": "stdout",
          "text": [
            "<class 'float'>\n"
          ]
        }
      ]
    },
    {
      "cell_type": "code",
      "source": [
        "print(type(bool(a)))"
      ],
      "metadata": {
        "colab": {
          "base_uri": "https://localhost:8080/"
        },
        "id": "S1OnSzPoicFK",
        "outputId": "8700ccce-a98b-4a6d-8fcc-07aa8bea2550"
      },
      "execution_count": 49,
      "outputs": [
        {
          "output_type": "stream",
          "name": "stdout",
          "text": [
            "<class 'bool'>\n"
          ]
        }
      ]
    },
    {
      "cell_type": "markdown",
      "source": [
        "9. Write code to demonstrate type casting with list elements."
      ],
      "metadata": {
        "id": "GV7p4A8xih5X"
      }
    },
    {
      "cell_type": "code",
      "source": [
        "# Create a list with different data types.\n",
        "my_list = [1, \"2\", 3.14, True]\n",
        "\n",
        "# Type casting of elements\n",
        "# String to integer\n",
        "my_list[1] = int(my_list[1])\n",
        "\n",
        "# Float to integer\n",
        "my_list[2] = int(my_list[2])\n",
        "\n",
        "# Boolean to integer (True becomes 1, False becomes 0)\n",
        "my_list[3] = int(my_list[3])\n",
        "\n",
        "# Print the modified list with type-casted elements\n",
        "print(my_list)\n",
        "print(type(my_list[0]))\n",
        "print(type(my_list[1]))\n",
        "print(type(my_list[2]))\n",
        "print(type(my_list[3]))\n"
      ],
      "metadata": {
        "id": "eeTwFul1mo7p"
      },
      "execution_count": null,
      "outputs": []
    },
    {
      "cell_type": "markdown",
      "source": [
        "10. Write a program that checks if a number is positive, negative, or zero"
      ],
      "metadata": {
        "id": "63FEZA_RmqQp"
      }
    },
    {
      "cell_type": "code",
      "source": [
        "num = 0\n",
        "num = float(input(\"Enter a number: \"))\n",
        "if num > 0:\n",
        "   print(\"Positive number\")\n",
        "elif num == 0:\n",
        "   print(\"Zero\")\n",
        "else:\n",
        "   print(\"Negative number\")"
      ],
      "metadata": {
        "colab": {
          "base_uri": "https://localhost:8080/"
        },
        "id": "4uHf8q9-nKR1",
        "outputId": "4c45226b-3bcf-44b2-db71-9449f4dbd2da"
      },
      "execution_count": 64,
      "outputs": [
        {
          "output_type": "stream",
          "name": "stdout",
          "text": [
            "Enter a number: 5\n",
            "Positive number\n"
          ]
        }
      ]
    },
    {
      "cell_type": "markdown",
      "source": [
        "11.  Write a for loop to print numbers from 1 to 100."
      ],
      "metadata": {
        "id": "BY2bkKe0nXhL"
      }
    },
    {
      "cell_type": "code",
      "source": [
        "for i in range(1,100):\n",
        "   print(i)"
      ],
      "metadata": {
        "colab": {
          "base_uri": "https://localhost:8080/"
        },
        "id": "4B1urZzhndhh",
        "outputId": "6271dc0c-f0e2-46cb-cb32-14400fbb8237"
      },
      "execution_count": 68,
      "outputs": [
        {
          "output_type": "stream",
          "name": "stdout",
          "text": [
            "1\n",
            "2\n",
            "3\n",
            "4\n",
            "5\n",
            "6\n",
            "7\n",
            "8\n",
            "9\n",
            "10\n",
            "11\n",
            "12\n",
            "13\n",
            "14\n",
            "15\n",
            "16\n",
            "17\n",
            "18\n",
            "19\n",
            "20\n",
            "21\n",
            "22\n",
            "23\n",
            "24\n",
            "25\n",
            "26\n",
            "27\n",
            "28\n",
            "29\n",
            "30\n",
            "31\n",
            "32\n",
            "33\n",
            "34\n",
            "35\n",
            "36\n",
            "37\n",
            "38\n",
            "39\n",
            "40\n",
            "41\n",
            "42\n",
            "43\n",
            "44\n",
            "45\n",
            "46\n",
            "47\n",
            "48\n",
            "49\n",
            "50\n",
            "51\n",
            "52\n",
            "53\n",
            "54\n",
            "55\n",
            "56\n",
            "57\n",
            "58\n",
            "59\n",
            "60\n",
            "61\n",
            "62\n",
            "63\n",
            "64\n",
            "65\n",
            "66\n",
            "67\n",
            "68\n",
            "69\n",
            "70\n",
            "71\n",
            "72\n",
            "73\n",
            "74\n",
            "75\n",
            "76\n",
            "77\n",
            "78\n",
            "79\n",
            "80\n",
            "81\n",
            "82\n",
            "83\n",
            "84\n",
            "85\n",
            "86\n",
            "87\n",
            "88\n",
            "89\n",
            "90\n",
            "91\n",
            "92\n",
            "93\n",
            "94\n",
            "95\n",
            "96\n",
            "97\n",
            "98\n",
            "99\n"
          ]
        }
      ]
    },
    {
      "cell_type": "markdown",
      "source": [
        "12. Write a Python program to find the sum of all even numbers between 1 and\n",
        "     50"
      ],
      "metadata": {
        "id": "skxZeEZfoIK2"
      }
    },
    {
      "cell_type": "code",
      "source": [
        "num = int(input('Enter a number: '))\n",
        "sum = 0\n",
        "i = 0\n",
        "while i <= num:\n",
        "    if i % 1 == 0:\n",
        "        print(i)\n",
        "        sum+=i\n",
        "    i+=1\n",
        "print(f\"Sum of all the numbers is {sum}\")"
      ],
      "metadata": {
        "colab": {
          "base_uri": "https://localhost:8080/"
        },
        "id": "DXjYJ7OEoQmg",
        "outputId": "d5777e07-d984-48cd-8eeb-d009b609a94f"
      },
      "execution_count": 71,
      "outputs": [
        {
          "output_type": "stream",
          "name": "stdout",
          "text": [
            "Enter a number: 50\n",
            "0\n",
            "1\n",
            "2\n",
            "3\n",
            "4\n",
            "5\n",
            "6\n",
            "7\n",
            "8\n",
            "9\n",
            "10\n",
            "11\n",
            "12\n",
            "13\n",
            "14\n",
            "15\n",
            "16\n",
            "17\n",
            "18\n",
            "19\n",
            "20\n",
            "21\n",
            "22\n",
            "23\n",
            "24\n",
            "25\n",
            "26\n",
            "27\n",
            "28\n",
            "29\n",
            "30\n",
            "31\n",
            "32\n",
            "33\n",
            "34\n",
            "35\n",
            "36\n",
            "37\n",
            "38\n",
            "39\n",
            "40\n",
            "41\n",
            "42\n",
            "43\n",
            "44\n",
            "45\n",
            "46\n",
            "47\n",
            "48\n",
            "49\n",
            "50\n",
            "Sum of all the numbers is 1275\n"
          ]
        }
      ]
    },
    {
      "cell_type": "markdown",
      "source": [
        "13. Write a program to reverse a string using a while loop."
      ],
      "metadata": {
        "id": "IzoTdv42pdrJ"
      }
    },
    {
      "cell_type": "code",
      "source": [
        "# Python program to reverse a string using while loop\n",
        "\n",
        "# take inputs\n",
        "string = input('Enter the string: ')\n",
        "\n",
        "# find reverse of string\n",
        "i = string\n",
        "reverse = ''\n",
        "while(len(i) > 0):\n",
        "   if(len(i) > 0):\n",
        "      a = i[-1]\n",
        "      i = i[:-1]\n",
        "      reverse += a\n",
        "\n",
        "# print reverse of string\n",
        "print('The reverse string is', reverse)"
      ],
      "metadata": {
        "colab": {
          "base_uri": "https://localhost:8080/"
        },
        "id": "uhGasoAKphCs",
        "outputId": "3e976537-6911-4042-d2f6-f5a8fdd38331"
      },
      "execution_count": 72,
      "outputs": [
        {
          "output_type": "stream",
          "name": "stdout",
          "text": [
            "Enter the string: Robi Thangjam\n",
            "The reverse string is majgnahT iboR\n"
          ]
        }
      ]
    },
    {
      "cell_type": "markdown",
      "source": [
        "14. Write a Python program to calculate the factorial of a number provided by the user using a while loop.\n"
      ],
      "metadata": {
        "id": "fsosJMo4qHii"
      }
    },
    {
      "cell_type": "code",
      "source": [
        "# Python program to find the factorial of a number provided by the user.\n",
        "\n",
        "# change the value for a different result\n",
        "num = 9\n",
        "\n",
        "# To take input from the user\n",
        "#num = int(input(\"Enter a number: \"))\n",
        "\n",
        "factorial = 1\n",
        "\n",
        "# check if the number is negative, positive or zero\n",
        "if num < 0:\n",
        "   print(\"Sorry, factorial does not exist for negative numbers\")\n",
        "elif num == 0:\n",
        "   print(\"The factorial of 0 is 1\")\n",
        "else:\n",
        "   for i in range(1,num + 1):\n",
        "       factorial = factorial*i\n",
        "   print(\"The factorial of\",num,\"is\",factorial)"
      ],
      "metadata": {
        "colab": {
          "base_uri": "https://localhost:8080/"
        },
        "id": "EBy3rsWwqMqv",
        "outputId": "3fa9f6cc-90b4-4fe8-f68e-5a85b0c959be"
      },
      "execution_count": 74,
      "outputs": [
        {
          "output_type": "stream",
          "name": "stdout",
          "text": [
            "The factorial of 9 is 362880\n"
          ]
        }
      ]
    }
  ]
}